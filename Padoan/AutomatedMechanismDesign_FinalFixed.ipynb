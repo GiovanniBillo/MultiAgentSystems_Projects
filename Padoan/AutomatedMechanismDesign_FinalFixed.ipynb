{
  "cells": [
    {
      "cell_type": "code",
      "execution_count": 1,
      "id": "88c0b146",
      "metadata": {
        "id": "88c0b146",
        "outputId": "e920484b-cd42-42f7-9b39-868119fabbda",
        "colab": {
          "base_uri": "https://localhost:8080/"
        }
      },
      "outputs": [
        {
          "output_type": "stream",
          "name": "stdout",
          "text": [
            "1\n"
          ]
        }
      ],
      "source": [
        "import random\n",
        "from itertools import combinations, product\n",
        "from functools import lru_cache\n",
        "\n",
        "# Constants\n",
        "NUM_GOODS = 2\n",
        "NUM_THETA = 15\n",
        "\n",
        "# Generate goods\n",
        "goods = [f\"g{i}\" for i in range(NUM_GOODS)]\n",
        "\n",
        "# Generate powerset (all subsets)\n",
        "def powerset(lst):\n",
        "    return [set(comb) for i in range(len(lst)+1) for comb in combinations(lst, i)]\n",
        "\n",
        "all_subsets = powerset(goods)\n",
        "\n",
        "# preference_1 = {frozenset(g): random.randint(1, 5) for g in goods}\n",
        "# preferences_2 =\n",
        "\n",
        "# # Initial endowments (half of the goods each)\n",
        "even_split = (NUM_GOODS//2)\n",
        "print(even_split)\n",
        "\n",
        "initial_endowment_1 = frozenset(goods[:even_split])  # Agent 1 gets g0, g1, g2\n",
        "initial_endowment_2 = frozenset(goods[even_split:])  # Agent 2 gets g3, g4, g5\n",
        "initial_endowment = (initial_endowment_1, initial_endowment_2)\n",
        "# # Generate Agent 1 preference (theta_1)\n",
        "# theta_1 = {frozenset(s): random.randint(1, 5) for s in all_subsets}\n",
        "\n",
        "# # Generate Agent 2 preference types (theta_2_list)\n",
        "# theta_2_list = []\n",
        "# for _ in range(NUM_THETA):\n",
        "#     profile = {frozenset(s): random.randint(1, 5) for s in all_subsets}\n",
        "#     theta_2_list.append(profile)\n"
      ]
    },
    {
      "cell_type": "code",
      "source": [
        "print(f\"INITIAL GOOD ENDOWMENTS: Agent 1 has{initial_endowment_1}, Agent 2 has {initial_endowment_2}\")"
      ],
      "metadata": {
        "id": "pZOmZvkZXcHm",
        "outputId": "d1df2d0b-9451-4817-a55f-4b64c4ad371f",
        "colab": {
          "base_uri": "https://localhost:8080/"
        }
      },
      "id": "pZOmZvkZXcHm",
      "execution_count": 2,
      "outputs": [
        {
          "output_type": "stream",
          "name": "stdout",
          "text": [
            "INITIAL GOOD ENDOWMENTS: Agent 1 hasfrozenset({'g0'}), Agent 2 has frozenset({'g1'})\n"
          ]
        }
      ]
    },
    {
      "cell_type": "markdown",
      "source": [
        "# EXPERIMENT (GIOVANNI)\n",
        "The thetas as previously defined made the algorithm run in the correct way but had absurd results, possibly assigning a higher valuation to an empty set than to the full set (something that is against the rules).\n",
        "I defined separate subsets `preference_1` for agent 1 and `preferences_2` for agent 2, and assign values to the subsets directly (one for every theta in the case of agent 2)."
      ],
      "metadata": {
        "id": "vyn96lBhTsMy"
      },
      "id": "vyn96lBhTsMy"
    },
    {
      "cell_type": "code",
      "source": [
        "# Define preference_1 based on individual goods (Agent 1's base preferences)\n",
        "preference_1 = {frozenset({g}): random.randint(1, 5) for g in goods}\n",
        "\n",
        "# Generate Agent 1 preference (theta_1) based on summing preference_1\n",
        "theta_1 = {}\n",
        "for subset in all_subsets:\n",
        "    subset_utility = sum(preference_1.get(frozenset({good}), 0) for good in subset)\n",
        "    theta_1[frozenset(subset)] = subset_utility\n",
        "\n",
        "# Generate Agent 2 preference types (theta_2_list) with varying individual preferences\n",
        "theta_2_list = []\n",
        "for _ in range(NUM_THETA):\n",
        "    # Generate a new preference for individual goods for this Agent 2 type\n",
        "    preference_2 = {frozenset({g}): random.randint(1, 5) for g in goods}\n",
        "\n",
        "    # Construct the full preference profile (theta) for this Agent 2 type\n",
        "    profile = {}\n",
        "    for subset in all_subsets:\n",
        "        # Calculate subset utility based on summing the current Agent 2's individual good preferences\n",
        "        subset_utility = sum(preference_2.get(frozenset({good}), 0) for good in subset)\n",
        "        profile[frozenset(subset)] = subset_utility\n",
        "    theta_2_list.append(profile)\n",
        "\n",
        "# You can add print statements here to check the generated theta_1 and theta_2_list\n",
        "print(\"theta_1:\", theta_1)\n",
        "print(\"theta_2_list (first profile):\", theta_2_list[0])\n",
        "print(\"theta_2_list (second profile):\", theta_2_list[1]) # To see they are different\n"
      ],
      "metadata": {
        "id": "0t2pghABTtl2",
        "outputId": "04b826c1-9268-4232-a968-9e7fba53f711",
        "colab": {
          "base_uri": "https://localhost:8080/"
        }
      },
      "id": "0t2pghABTtl2",
      "execution_count": 3,
      "outputs": [
        {
          "output_type": "stream",
          "name": "stdout",
          "text": [
            "theta_1: {frozenset(): 0, frozenset({'g0'}): 4, frozenset({'g1'}): 3, frozenset({'g0', 'g1'}): 7}\n",
            "theta_2_list (first profile): {frozenset(): 0, frozenset({'g0'}): 3, frozenset({'g1'}): 5, frozenset({'g0', 'g1'}): 8}\n",
            "theta_2_list (second profile): {frozenset(): 0, frozenset({'g0'}): 4, frozenset({'g1'}): 4, frozenset({'g0', 'g1'}): 8}\n"
          ]
        }
      ]
    },
    {
      "cell_type": "code",
      "execution_count": 4,
      "id": "ba979d95",
      "metadata": {
        "id": "ba979d95"
      },
      "outputs": [],
      "source": [
        "# Generate all possible outcomes (2^{NUM_GOODS} in total)\n",
        "outcomes = []\n",
        "for bits in product([0, 1], repeat=NUM_GOODS):\n",
        "    agent1_goods = {goods[i] for i in range(NUM_GOODS) if bits[i] == 0}\n",
        "    agent2_goods = {goods[i] for i in range(NUM_GOODS) if bits[i] == 1}\n",
        "    outcomes.append((frozenset(agent1_goods), frozenset(agent2_goods)))\n",
        "\n",
        "assert len(outcomes) == 2 ** NUM_GOODS\n",
        "\n",
        "# Utility function for Agent 1 with endowment subtraction\n",
        "def g(outcome):\n",
        "    agent1_bundle, _ = outcome\n",
        "    return theta_1.get(agent1_bundle, 0) - theta_1.get(initial_endowment_1, 0)\n",
        "\n",
        "# Sort outcomes by Agent 1 utility (descending)\n",
        "outcomes.sort(key=g, reverse=True)\n",
        "\n",
        "# Utility function for Agent 2 (with endowment subtraction)\n",
        "def u(theta, outcome):\n",
        "    _, agent2_bundle = outcome\n",
        "    return theta.get(agent2_bundle, 0) - theta.get(initial_endowment_2, 0)\n"
      ]
    },
    {
      "cell_type": "code",
      "execution_count": 5,
      "id": "6a8f5c3f",
      "metadata": {
        "id": "6a8f5c3f"
      },
      "outputs": [],
      "source": [
        "@lru_cache(maxsize=None)\n",
        "def v_cached(X_tuple, Y_tuple):\n",
        "    X = set(X_tuple)\n",
        "    Y = set(Y_tuple)\n",
        "    remaining_outcomes = [o for o in outcomes if o not in Y]\n",
        "    total = 0\n",
        "    for theta in theta_2_list:\n",
        "        best_value = -float(\"inf\")\n",
        "        for o in remaining_outcomes:\n",
        "            if all(u(theta, o) >= u(theta, x) for x in X):\n",
        "                best_value = max(best_value, g(o))\n",
        "        if best_value != -float(\"inf\"):\n",
        "            total += best_value\n",
        "    return total / len(theta_2_list)\n"
      ]
    },
    {
      "cell_type": "code",
      "execution_count": 6,
      "id": "36fd72f9",
      "metadata": {
        "id": "36fd72f9"
      },
      "outputs": [],
      "source": [
        "CB = None\n",
        "L = -float(\"inf\")\n",
        "\n",
        "def SEARCH1(X, Y, w, d):\n",
        "    global CB, L\n",
        "\n",
        "    if d > len(outcomes):\n",
        "        CB = X.copy()\n",
        "        L = w\n",
        "        return\n",
        "\n",
        "    # if d % 10 == 0:\n",
        "        # print(f\"Depth {d}, current best L = {L}\")\n",
        "\n",
        "    od = outcomes[d - 1]\n",
        "    X_with_od = X | {od}\n",
        "    v1 = v_cached(tuple(X_with_od), tuple(Y))\n",
        "    if v1 > L:\n",
        "        SEARCH1(X_with_od, Y, v1, d + 1)\n",
        "\n",
        "    new_Y = Y | {od}\n",
        "    remaining_outcomes = [o for o in outcomes if o not in new_Y]\n",
        "    condition1 = all(any(u(theta, o) >= 0 for o in remaining_outcomes) for theta in theta_2_list)\n",
        "    v2 = v_cached(tuple(X), tuple(new_Y))\n",
        "\n",
        "    if condition1 and v2 > L:\n",
        "        SEARCH1(X, new_Y, v2, d + 1)\n",
        "\n",
        "def BnB_DFS():\n",
        "    global CB, L\n",
        "    CB = set()\n",
        "    L = -float(\"inf\")\n",
        "    SEARCH1(set(), set(), 0, 1)\n",
        "    return CB\n"
      ]
    },
    {
      "cell_type": "code",
      "execution_count": 7,
      "id": "38f47252",
      "metadata": {
        "id": "38f47252"
      },
      "outputs": [],
      "source": [
        "def MCB(theta, CB):\n",
        "    valid_outcomes = []\n",
        "    for o in CB:\n",
        "        if all(u(theta, o) >= u(theta, x) for x in CB):\n",
        "            valid_outcomes.append(o)\n",
        "    if not valid_outcomes:\n",
        "        return None\n",
        "    return max(valid_outcomes, key=g)\n"
      ]
    },
    {
      "cell_type": "code",
      "execution_count": 8,
      "id": "0aa76f7c",
      "metadata": {
        "id": "0aa76f7c",
        "colab": {
          "base_uri": "https://localhost:8080/"
        },
        "outputId": "be9d6391-3ff0-4873-b233-9c3072f94363"
      },
      "outputs": [
        {
          "output_type": "stream",
          "name": "stdout",
          "text": [
            "CB_result: {(frozenset({'g0'}), frozenset({'g1'})), (frozenset({'g0', 'g1'}), frozenset())}\n"
          ]
        }
      ],
      "source": [
        "CB_result = BnB_DFS()\n",
        "print(\"CB_result:\", CB_result)\n",
        "\n",
        "# # Apply MCB for first agent 2 type\n",
        "# chosen_outcome = MCB(theta_2_list[0], CB_result)\n",
        "# print(\"Chosen outcome for θ[0]:\")\n",
        "# print(\"  Agent 1 gets:\", set(chosen_outcome[0]))\n",
        "# print(\"  Agent 2 gets:\", set(chosen_outcome[1]))\n",
        "# print(\"  Agent 1 utility (g):\", g(chosen_outcome))\n",
        "# print(\"  Agent 2 utility (u):\", u(theta_2_list[0], chosen_outcome))\n",
        "# print(f\"Agent 1 had {initial_endowment_1} with {theta_1.get(initial_endowment_1)} initially, while Agent 2 had {initial_endowment_2} with {theta_2_list[0].get(initial_endowment_2)}\")"
      ]
    },
    {
      "cell_type": "markdown",
      "source": [
        "# experiment: verify truthfulness and individual rationality"
      ],
      "metadata": {
        "id": "eDNsPjfSan9o"
      },
      "id": "eDNsPjfSan9o"
    },
    {
      "cell_type": "markdown",
      "source": [
        "Helpers to verify that the chosen mechanisms are truthful"
      ],
      "metadata": {
        "id": "7EOqTebuhY5C"
      },
      "id": "7EOqTebuhY5C"
    },
    {
      "cell_type": "code",
      "source": [
        "from itertools import product\n",
        "\n",
        "def generate_misreports(theta, goods, value_range=(1, 5)):\n",
        "    misreports = []\n",
        "    # Get the base preferences for individual goods from the current theta\n",
        "    base_preferences = {good: theta.get(frozenset({good}), 0) for good in goods}\n",
        "\n",
        "    # Generate all possible combinations of values for each good's individual preference\n",
        "    value_combinations = product(range(value_range[0], value_range[1] + 1), repeat=len(goods))\n",
        "\n",
        "    for values in value_combinations:\n",
        "        # Create a new misreported preference for individual goods\n",
        "        misreported_preference = {frozenset({goods[i]}): values[i] for i in range(len(goods))}\n",
        "\n",
        "        # Construct the full misreported preference profile (theta)\n",
        "        misreported_theta = {}\n",
        "        for subset in all_subsets:\n",
        "            subset_utility = sum(misreported_preference.get(frozenset({good}), 0) for good in subset)\n",
        "            misreported_theta[frozenset(subset)] = subset_utility\n",
        "\n",
        "        misreports.append(misreported_theta)\n",
        "    return misreports\n",
        "\n",
        "def verify_truthfulness(true_theta, chosen_outcome, goods, CB_result):\n",
        "    \"\"\"\n",
        "    Verifies that misreporting preferences does not yield a better outcome for Agent 2.\n",
        "\n",
        "    Args:\n",
        "        true_theta: The true preference profile of Agent 2.\n",
        "        chosen_outcome: The outcome chosen by the mechanism for the true_theta.\n",
        "        goods: The list of goods.\n",
        "        CB_result: The set of Candidate Best outcomes found by the mechanism.\n",
        "    \"\"\"\n",
        "    true_utility = u(true_theta, chosen_outcome)\n",
        "    misreports = generate_misreports(true_theta, goods)\n",
        "\n",
        "    print(f\"Verifying truthfulness for a true theta with utility {true_utility} for the chosen outcome.\")\n",
        "    print(f\"Generated {len(misreports)} possible misreports.\")\n",
        "\n",
        "    for i, misreported_theta in enumerate(misreports):\n",
        "        misreported_chosen_outcome = MCB(misreported_theta, CB_result)\n",
        "\n",
        "        if misreported_chosen_outcome:\n",
        "            misreported_utility = u(true_theta, misreported_chosen_outcome)\n",
        "            assert misreported_utility <= true_utility, f\"Truthfulness violated! Misreport {i} with outcome {misreported_chosen_outcome} yielded utility {misreported_utility} which is better than true utility {true_utility} with chosen outcome {chosen_outcome}.\"\n",
        "        else:\n",
        "            # If no valid outcome is found for a misreport, it doesn't violate truthfulness\n",
        "            pass # Or print a message: print(f\"Misreport {i}: No valid outcome found in CB_result.\")\n",
        "\n",
        "    print(\"Truthfulness verified for this theta: All misreports resulted in utility less than or equal to the true utility.\")\n",
        "\n",
        "# Example usage:\n",
        "# Choose a theta to test (e.g., the first one from theta_2_list)\n",
        "theta_to_test = theta_2_list[0]\n",
        "\n",
        "# Find the chosen outcome for this theta using the MCB function\n",
        "chosen_outcome_for_test_theta = MCB(theta_to_test, CB_result)\n",
        "\n",
        "# Verify truthfulness for this theta and its chosen outcome\n",
        "if chosen_outcome_for_test_theta:\n",
        "    verify_truthfulness(theta_to_test, chosen_outcome_for_test_theta, goods, CB_result)\n",
        "else:\n",
        "    print(\"Could not find a chosen outcome for the selected theta, cannot verify truthfulness.\")"
      ],
      "metadata": {
        "id": "k3ZIQmDMihzt",
        "colab": {
          "base_uri": "https://localhost:8080/"
        },
        "outputId": "96a5dc8b-5332-4ab2-f168-2a76058187cb"
      },
      "id": "k3ZIQmDMihzt",
      "execution_count": 9,
      "outputs": [
        {
          "output_type": "stream",
          "name": "stdout",
          "text": [
            "Verifying truthfulness for a true theta with utility 0 for the chosen outcome.\n",
            "Generated 25 possible misreports.\n",
            "Truthfulness verified for this theta: All misreports resulted in utility less than or equal to the true utility.\n"
          ]
        }
      ]
    },
    {
      "cell_type": "code",
      "source": [
        "# Apply MCB for all Agent 2 types\n",
        "for i, theta in enumerate(theta_2_list):\n",
        "    chosen_outcome = MCB(theta, CB_result)\n",
        "\n",
        "    print(f\"\\nChosen outcome for θ[{i}]:\")\n",
        "    if chosen_outcome:\n",
        "        print(\"  Agent 1 gets:\", set(chosen_outcome[0]))\n",
        "        print(\"  Agent 2 gets:\", set(chosen_outcome[1]))\n",
        "        print(\"  Agent 1 utility (g):\", g(chosen_outcome))\n",
        "        print(\"  Agent 2 utility (u):\", u(theta, chosen_outcome))\n",
        "        # print(f\"  Agent 1 had {initial_endowment_1} with utility {theta_1.get(initial_endowment_1)} initially, while Agent 2 had {initial_endowment_2} with {theta.get(initial_endowment_2)}\")\n",
        "        print(f\"  Agent 1 had {initial_endowment_1} with utility {g(initial_endowment)} initially (actual initial goods valuation: {theta_1.get(initial_endowment[0])}),  \\n Agent 2 had {initial_endowment_2} with utility {u(theta, initial_endowment)} (actual initial goods valuation: {theta.get(initial_endowment[1])})\")\n",
        "        verify_truthfulness(theta, chosen_outcome, goods, CB_result)\n",
        "    else:\n",
        "        print(\"  No valid outcome found in CB_result for this theta.\")"
      ],
      "metadata": {
        "id": "MrwyxLCJWqTK",
        "colab": {
          "base_uri": "https://localhost:8080/"
        },
        "outputId": "7f88cdaf-ae6c-49a0-beef-e8c39708e554"
      },
      "id": "MrwyxLCJWqTK",
      "execution_count": 10,
      "outputs": [
        {
          "output_type": "stream",
          "name": "stdout",
          "text": [
            "\n",
            "Chosen outcome for θ[0]:\n",
            "  Agent 1 gets: {'g0'}\n",
            "  Agent 2 gets: {'g1'}\n",
            "  Agent 1 utility (g): 0\n",
            "  Agent 2 utility (u): 0\n",
            "  Agent 1 had frozenset({'g0'}) with utility 0 initially (actual initial goods valuation: 4),  \n",
            " Agent 2 had frozenset({'g1'}) with utility 0 (actual initial goods valuation: 5)\n",
            "Verifying truthfulness for a true theta with utility 0 for the chosen outcome.\n",
            "Generated 25 possible misreports.\n",
            "Truthfulness verified for this theta: All misreports resulted in utility less than or equal to the true utility.\n",
            "\n",
            "Chosen outcome for θ[1]:\n",
            "  Agent 1 gets: {'g0'}\n",
            "  Agent 2 gets: {'g1'}\n",
            "  Agent 1 utility (g): 0\n",
            "  Agent 2 utility (u): 0\n",
            "  Agent 1 had frozenset({'g0'}) with utility 0 initially (actual initial goods valuation: 4),  \n",
            " Agent 2 had frozenset({'g1'}) with utility 0 (actual initial goods valuation: 4)\n",
            "Verifying truthfulness for a true theta with utility 0 for the chosen outcome.\n",
            "Generated 25 possible misreports.\n",
            "Truthfulness verified for this theta: All misreports resulted in utility less than or equal to the true utility.\n",
            "\n",
            "Chosen outcome for θ[2]:\n",
            "  Agent 1 gets: {'g0'}\n",
            "  Agent 2 gets: {'g1'}\n",
            "  Agent 1 utility (g): 0\n",
            "  Agent 2 utility (u): 0\n",
            "  Agent 1 had frozenset({'g0'}) with utility 0 initially (actual initial goods valuation: 4),  \n",
            " Agent 2 had frozenset({'g1'}) with utility 0 (actual initial goods valuation: 1)\n",
            "Verifying truthfulness for a true theta with utility 0 for the chosen outcome.\n",
            "Generated 25 possible misreports.\n",
            "Truthfulness verified for this theta: All misreports resulted in utility less than or equal to the true utility.\n",
            "\n",
            "Chosen outcome for θ[3]:\n",
            "  Agent 1 gets: {'g0'}\n",
            "  Agent 2 gets: {'g1'}\n",
            "  Agent 1 utility (g): 0\n",
            "  Agent 2 utility (u): 0\n",
            "  Agent 1 had frozenset({'g0'}) with utility 0 initially (actual initial goods valuation: 4),  \n",
            " Agent 2 had frozenset({'g1'}) with utility 0 (actual initial goods valuation: 2)\n",
            "Verifying truthfulness for a true theta with utility 0 for the chosen outcome.\n",
            "Generated 25 possible misreports.\n",
            "Truthfulness verified for this theta: All misreports resulted in utility less than or equal to the true utility.\n",
            "\n",
            "Chosen outcome for θ[4]:\n",
            "  Agent 1 gets: {'g0'}\n",
            "  Agent 2 gets: {'g1'}\n",
            "  Agent 1 utility (g): 0\n",
            "  Agent 2 utility (u): 0\n",
            "  Agent 1 had frozenset({'g0'}) with utility 0 initially (actual initial goods valuation: 4),  \n",
            " Agent 2 had frozenset({'g1'}) with utility 0 (actual initial goods valuation: 2)\n",
            "Verifying truthfulness for a true theta with utility 0 for the chosen outcome.\n",
            "Generated 25 possible misreports.\n",
            "Truthfulness verified for this theta: All misreports resulted in utility less than or equal to the true utility.\n",
            "\n",
            "Chosen outcome for θ[5]:\n",
            "  Agent 1 gets: {'g0'}\n",
            "  Agent 2 gets: {'g1'}\n",
            "  Agent 1 utility (g): 0\n",
            "  Agent 2 utility (u): 0\n",
            "  Agent 1 had frozenset({'g0'}) with utility 0 initially (actual initial goods valuation: 4),  \n",
            " Agent 2 had frozenset({'g1'}) with utility 0 (actual initial goods valuation: 3)\n",
            "Verifying truthfulness for a true theta with utility 0 for the chosen outcome.\n",
            "Generated 25 possible misreports.\n",
            "Truthfulness verified for this theta: All misreports resulted in utility less than or equal to the true utility.\n",
            "\n",
            "Chosen outcome for θ[6]:\n",
            "  Agent 1 gets: {'g0'}\n",
            "  Agent 2 gets: {'g1'}\n",
            "  Agent 1 utility (g): 0\n",
            "  Agent 2 utility (u): 0\n",
            "  Agent 1 had frozenset({'g0'}) with utility 0 initially (actual initial goods valuation: 4),  \n",
            " Agent 2 had frozenset({'g1'}) with utility 0 (actual initial goods valuation: 2)\n",
            "Verifying truthfulness for a true theta with utility 0 for the chosen outcome.\n",
            "Generated 25 possible misreports.\n",
            "Truthfulness verified for this theta: All misreports resulted in utility less than or equal to the true utility.\n",
            "\n",
            "Chosen outcome for θ[7]:\n",
            "  Agent 1 gets: {'g0'}\n",
            "  Agent 2 gets: {'g1'}\n",
            "  Agent 1 utility (g): 0\n",
            "  Agent 2 utility (u): 0\n",
            "  Agent 1 had frozenset({'g0'}) with utility 0 initially (actual initial goods valuation: 4),  \n",
            " Agent 2 had frozenset({'g1'}) with utility 0 (actual initial goods valuation: 1)\n",
            "Verifying truthfulness for a true theta with utility 0 for the chosen outcome.\n",
            "Generated 25 possible misreports.\n",
            "Truthfulness verified for this theta: All misreports resulted in utility less than or equal to the true utility.\n",
            "\n",
            "Chosen outcome for θ[8]:\n",
            "  Agent 1 gets: {'g0'}\n",
            "  Agent 2 gets: {'g1'}\n",
            "  Agent 1 utility (g): 0\n",
            "  Agent 2 utility (u): 0\n",
            "  Agent 1 had frozenset({'g0'}) with utility 0 initially (actual initial goods valuation: 4),  \n",
            " Agent 2 had frozenset({'g1'}) with utility 0 (actual initial goods valuation: 1)\n",
            "Verifying truthfulness for a true theta with utility 0 for the chosen outcome.\n",
            "Generated 25 possible misreports.\n",
            "Truthfulness verified for this theta: All misreports resulted in utility less than or equal to the true utility.\n",
            "\n",
            "Chosen outcome for θ[9]:\n",
            "  Agent 1 gets: {'g0'}\n",
            "  Agent 2 gets: {'g1'}\n",
            "  Agent 1 utility (g): 0\n",
            "  Agent 2 utility (u): 0\n",
            "  Agent 1 had frozenset({'g0'}) with utility 0 initially (actual initial goods valuation: 4),  \n",
            " Agent 2 had frozenset({'g1'}) with utility 0 (actual initial goods valuation: 4)\n",
            "Verifying truthfulness for a true theta with utility 0 for the chosen outcome.\n",
            "Generated 25 possible misreports.\n",
            "Truthfulness verified for this theta: All misreports resulted in utility less than or equal to the true utility.\n",
            "\n",
            "Chosen outcome for θ[10]:\n",
            "  Agent 1 gets: {'g0'}\n",
            "  Agent 2 gets: {'g1'}\n",
            "  Agent 1 utility (g): 0\n",
            "  Agent 2 utility (u): 0\n",
            "  Agent 1 had frozenset({'g0'}) with utility 0 initially (actual initial goods valuation: 4),  \n",
            " Agent 2 had frozenset({'g1'}) with utility 0 (actual initial goods valuation: 5)\n",
            "Verifying truthfulness for a true theta with utility 0 for the chosen outcome.\n",
            "Generated 25 possible misreports.\n",
            "Truthfulness verified for this theta: All misreports resulted in utility less than or equal to the true utility.\n",
            "\n",
            "Chosen outcome for θ[11]:\n",
            "  Agent 1 gets: {'g0'}\n",
            "  Agent 2 gets: {'g1'}\n",
            "  Agent 1 utility (g): 0\n",
            "  Agent 2 utility (u): 0\n",
            "  Agent 1 had frozenset({'g0'}) with utility 0 initially (actual initial goods valuation: 4),  \n",
            " Agent 2 had frozenset({'g1'}) with utility 0 (actual initial goods valuation: 2)\n",
            "Verifying truthfulness for a true theta with utility 0 for the chosen outcome.\n",
            "Generated 25 possible misreports.\n",
            "Truthfulness verified for this theta: All misreports resulted in utility less than or equal to the true utility.\n",
            "\n",
            "Chosen outcome for θ[12]:\n",
            "  Agent 1 gets: {'g0'}\n",
            "  Agent 2 gets: {'g1'}\n",
            "  Agent 1 utility (g): 0\n",
            "  Agent 2 utility (u): 0\n",
            "  Agent 1 had frozenset({'g0'}) with utility 0 initially (actual initial goods valuation: 4),  \n",
            " Agent 2 had frozenset({'g1'}) with utility 0 (actual initial goods valuation: 3)\n",
            "Verifying truthfulness for a true theta with utility 0 for the chosen outcome.\n",
            "Generated 25 possible misreports.\n",
            "Truthfulness verified for this theta: All misreports resulted in utility less than or equal to the true utility.\n",
            "\n",
            "Chosen outcome for θ[13]:\n",
            "  Agent 1 gets: {'g0'}\n",
            "  Agent 2 gets: {'g1'}\n",
            "  Agent 1 utility (g): 0\n",
            "  Agent 2 utility (u): 0\n",
            "  Agent 1 had frozenset({'g0'}) with utility 0 initially (actual initial goods valuation: 4),  \n",
            " Agent 2 had frozenset({'g1'}) with utility 0 (actual initial goods valuation: 3)\n",
            "Verifying truthfulness for a true theta with utility 0 for the chosen outcome.\n",
            "Generated 25 possible misreports.\n",
            "Truthfulness verified for this theta: All misreports resulted in utility less than or equal to the true utility.\n",
            "\n",
            "Chosen outcome for θ[14]:\n",
            "  Agent 1 gets: {'g0'}\n",
            "  Agent 2 gets: {'g1'}\n",
            "  Agent 1 utility (g): 0\n",
            "  Agent 2 utility (u): 0\n",
            "  Agent 1 had frozenset({'g0'}) with utility 0 initially (actual initial goods valuation: 4),  \n",
            " Agent 2 had frozenset({'g1'}) with utility 0 (actual initial goods valuation: 1)\n",
            "Verifying truthfulness for a true theta with utility 0 for the chosen outcome.\n",
            "Generated 25 possible misreports.\n",
            "Truthfulness verified for this theta: All misreports resulted in utility less than or equal to the true utility.\n"
          ]
        }
      ]
    }
  ],
  "metadata": {
    "colab": {
      "provenance": []
    },
    "language_info": {
      "name": "python"
    },
    "kernelspec": {
      "name": "python3",
      "display_name": "Python 3"
    }
  },
  "nbformat": 4,
  "nbformat_minor": 5
}