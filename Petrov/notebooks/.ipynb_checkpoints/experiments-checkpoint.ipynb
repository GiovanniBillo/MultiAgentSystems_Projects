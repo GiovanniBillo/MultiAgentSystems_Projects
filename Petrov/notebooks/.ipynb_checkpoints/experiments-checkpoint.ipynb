{
 "cells": [
  {
   "cell_type": "code",
   "execution_count": 2,
   "id": "2a343e2d",
   "metadata": {},
   "outputs": [
    {
     "ename": "ModuleNotFoundError",
     "evalue": "No module named 'simulation'",
     "output_type": "error",
     "traceback": [
      "\u001b[0;31m---------------------------------------------------------------------------\u001b[0m",
      "\u001b[0;31mModuleNotFoundError\u001b[0m                       Traceback (most recent call last)",
      "Cell \u001b[0;32mIn[2], line 1\u001b[0m\n\u001b[0;32m----> 1\u001b[0m \u001b[38;5;28;01mfrom\u001b[39;00m \u001b[38;5;21;01msimulation\u001b[39;00m\u001b[38;5;21;01m.\u001b[39;00m\u001b[38;5;21;01mcross_inhibition\u001b[39;00m \u001b[38;5;28;01mimport\u001b[39;00m run_cross_inhibition_simulation\n\u001b[1;32m      3\u001b[0m result \u001b[38;5;241m=\u001b[39m run_cross_inhibition_simulation(cycles\u001b[38;5;241m=\u001b[39m\u001b[38;5;241m100\u001b[39m, Tmax\u001b[38;5;241m=\u001b[39m\u001b[38;5;241m20\u001b[39m)\n\u001b[1;32m      4\u001b[0m \u001b[38;5;28mprint\u001b[39m(result)\n",
      "\u001b[0;31mModuleNotFoundError\u001b[0m: No module named 'simulation'"
     ]
    }
   ],
   "source": [
    "from simulation.cross_inhibition import run_cross_inhibition_simulation\n",
    "\n",
    "result = run_cross_inhibition_simulation(cycles=100, Tmax=20)\n",
    "print(result)"
   ]
  }
 ],
 "metadata": {
  "kernelspec": {
   "display_name": "Python 3 (ipykernel)",
   "language": "python",
   "name": "python3"
  },
  "language_info": {
   "codemirror_mode": {
    "name": "ipython",
    "version": 3
   },
   "file_extension": ".py",
   "mimetype": "text/x-python",
   "name": "python",
   "nbconvert_exporter": "python",
   "pygments_lexer": "ipython3",
   "version": "3.12.3"
  }
 },
 "nbformat": 4,
 "nbformat_minor": 5
}
