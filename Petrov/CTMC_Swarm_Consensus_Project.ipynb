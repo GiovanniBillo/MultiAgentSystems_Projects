{
  "cells": [
    {
      "cell_type": "markdown",
      "id": "fb46ae2d",
      "metadata": {
        "id": "fb46ae2d"
      },
      "source": [
        "\n",
        "# 🧪 Swarm Consensus Simulation Using CTMC and CRN (Cross-Inhibition)\n",
        "\n",
        "This notebook implements a **stochastic simulation** of a **Chemical Reaction Network (CRN)** model for swarm consensus using the **Gillespie algorithm (CTMC)**.\n",
        "\n",
        "It uses the **cross-inhibition model** with **zealot agents**, as specified in the provided project definition.\n",
        "\n",
        "## 📋 Project Setup\n",
        "\n",
        "- Initial population: `X = 40`, `Y = 40`, `U = 20`\n",
        "- Zealots: `ZX = 10`, `ZY = 10`\n",
        "- Total agents: `N = 100`\n",
        "- Reaction rates: `qx = 1.0`, `qy = 1.0`\n",
        "- Time bound `t = 35`, persistence bound `h = 40`\n",
        "- Majority threshold `m = 50` (% of population)\n",
        "- Opinion gap `d = 10`\n",
        "\n",
        "---\n",
        "Due to the fact that we observed interesting differences when running experiments with regard to this factor, we will perform 2 runs in the experiments:\n",
        "- one with \"internal\" zealots: the zealots make up a proportion of the population of X and Y, respectively.  \n",
        "- one with \"external\" zealots: the population is only composed of X + Y + U,  and zealots are \"outside\" of it. This seems to not influence robust consensus as much as the first case."
      ]
    },
    {
      "cell_type": "code",
      "execution_count": null,
      "id": "5c153555",
      "metadata": {
        "id": "5c153555"
      },
      "outputs": [],
      "source": [
        "\n",
        "import numpy as np\n",
        "import matplotlib.pyplot as plt\n",
        "import seaborn as sns\n",
        "from tqdm import tqdm\n",
        "\n",
        "sns.set(style=\"whitegrid\")\n"
      ]
    },
    {
      "cell_type": "markdown",
      "id": "9d1bd085",
      "metadata": {
        "id": "9d1bd085"
      },
      "source": [
        "## ⚙️ Gillespie CTMC Simulation for CRN"
      ]
    },
    {
      "cell_type": "code",
      "execution_count": null,
      "id": "cf8a5427",
      "metadata": {
        "id": "cf8a5427"
      },
      "outputs": [],
      "source": [
        "def get_reaction_rates(X, Y, U, ZX, ZY, N, qx=1.0, qy=1.0):\n",
        "    \"\"\"Returns the propensity rates for each reaction\"\"\"\n",
        "    return [\n",
        "        qx * X * Y / N,        # 0: X + Y → X + U\n",
        "        qy * X * Y / N,        # 1: X + Y → U + Y\n",
        "        qx * X * U / N,        # 2: X + U → X + X\n",
        "        qy * Y * U / N,        # 3: Y + U → Y + Y\n",
        "        qy * X * ZY / N,       # 4: X + ZY → U + ZY\n",
        "        qy * U * ZY / N,       # 5: U + ZY → Y + ZY\n",
        "        qx * Y * ZX / N,       # 6: Y + ZX → U + ZX\n",
        "        qx * U * ZX / N        # 7: U + ZX → X + ZX\n",
        "    ]\n",
        "\n",
        "def gillespie_simulation(initial_state, ZX, ZY, N, T_max=100, qx=1.0, qy=1.0):\n",
        "    \"\"\"Simulates the cross-inhibition CRN using Gillespie algorithm\"\"\"\n",
        "    X, Y, U = initial_state\n",
        "    t = 0\n",
        "    history = [(t, X, Y, U)]\n",
        "\n",
        "    while t < T_max:\n",
        "        rates = get_reaction_rates(X, Y, U, ZX, ZY, N, qx, qy)\n",
        "        total_rate = sum(rates)\n",
        "        if total_rate <= 0:\n",
        "            break\n",
        "\n",
        "        dt = np.random.exponential(1 / total_rate)\n",
        "        t += dt\n",
        "        r = np.random.rand() * total_rate\n",
        "\n",
        "        cumulative = 0\n",
        "        for i, rate in enumerate(rates):\n",
        "            cumulative += rate\n",
        "            if r < cumulative:\n",
        "                reaction = i\n",
        "                break\n",
        "\n",
        "        # Perform state update based on selected reaction\n",
        "        if reaction == 0:      # X + Y → X + U\n",
        "            Y -= 1\n",
        "            U += 1\n",
        "        elif reaction == 1:    # X + Y → U + Y\n",
        "            X -= 1\n",
        "            U += 1\n",
        "        elif reaction == 2:    # X + U → X + X\n",
        "            U -= 1\n",
        "            X += 1\n",
        "        elif reaction == 3:    # Y + U → Y + Y\n",
        "            U -= 1\n",
        "            Y += 1\n",
        "        elif reaction == 4:    # X + ZY → U + ZY\n",
        "            X -= 1\n",
        "            U += 1\n",
        "        elif reaction == 5:    # U + ZY → Y + ZY\n",
        "            U -= 1\n",
        "            Y += 1\n",
        "        elif reaction == 6:    # Y + ZX → U + ZX\n",
        "            Y -= 1\n",
        "            U += 1\n",
        "        elif reaction == 7:    # U + ZX → X + ZX\n",
        "            U -= 1\n",
        "            X += 1\n",
        "\n",
        "        # Ensure no negative populations\n",
        "        X, Y, U = max(0, X), max(0, Y), max(0, U)\n",
        "        history.append((t, X, Y, U))\n",
        "\n",
        "    return np.array(history)\n",
        "\n"
      ]
    },
    {
      "cell_type": "markdown",
      "id": "0ff3a0ea",
      "metadata": {
        "id": "0ff3a0ea"
      },
      "source": [
        "## ✅ Consensus Property Checker (BLTL)"
      ]
    },
    {
      "cell_type": "code",
      "execution_count": null,
      "id": "d868a7f3",
      "metadata": {
        "id": "d868a7f3"
      },
      "outputs": [],
      "source": [
        "\n",
        "def check_consensus_property(trajectory, ZX, ZY, m=50, d=10, t=35, h=40):\n",
        "    times = trajectory[:, 0]\n",
        "    min_m = (m / 100) * N # 50% of total N=100\n",
        "    t_idx = np.where(times <= t)[0]\n",
        "    if len(t_idx) == 0:\n",
        "        return False\n",
        "    for idx in t_idx:\n",
        "        t_start = times[idx]\n",
        "        X, Y, U = trajectory[idx, 1:4]\n",
        "        total_time = 0\n",
        "        for j in range(idx, len(trajectory) - 1):\n",
        "            Xj, Yj, _ = trajectory[j, 1:4]\n",
        "            dt = trajectory[j+1, 0] - trajectory[j, 0]\n",
        "            cond_X = (Xj + ZX > min_m) and ((Xj - Yj) > d)\n",
        "            cond_Y = (Yj + ZY > m) and ((Yj - Xj) > d)\n",
        "            if cond_X or cond_Y:\n",
        "                total_time += dt\n",
        "                if total_time >= h:\n",
        "                    return True\n",
        "            else:\n",
        "                break\n",
        "    return False\n"
      ]
    },
    {
      "cell_type": "markdown",
      "source": [
        "# Experiments with \"EXTERNAL\" zealots"
      ],
      "metadata": {
        "id": "iikHg9MxjC0W"
      },
      "id": "iikHg9MxjC0W"
    },
    {
      "cell_type": "markdown",
      "id": "6e93d846",
      "metadata": {
        "id": "6e93d846"
      },
      "source": [
        "## 🎯 Objective 1: Consensus Probability from Default Initial State\n",
        "\n"
      ]
    },
    {
      "cell_type": "code",
      "execution_count": null,
      "id": "eea8680c",
      "metadata": {
        "colab": {
          "base_uri": "https://localhost:8080/"
        },
        "id": "eea8680c",
        "outputId": "5a06dfc4-3145-4477-ddec-b0eef50e38cb"
      },
      "outputs": [
        {
          "output_type": "stream",
          "name": "stdout",
          "text": [
            "Running 5 repetitions with 10 samples each.\n",
            "\n",
            "--- Repetition 1/5 ---\n",
            "  Sample 1/10 → ✔ Consensus\n",
            "  Sample 2/10 → ✔ Consensus\n",
            "  Sample 3/10 → ✔ Consensus\n",
            "  Sample 4/10 → ✔ Consensus\n",
            "  Sample 5/10 → ✔ Consensus\n",
            "  Sample 6/10 → ✔ Consensus\n",
            "  Sample 7/10 → ✔ Consensus\n",
            "  Sample 8/10 → ✔ Consensus\n",
            "  Sample 9/10 → ✔ Consensus\n",
            "  Sample 10/10 → ✔ Consensus\n",
            "  Consensus Probability for Repetition 1: 1.000\n",
            "\n",
            "--- Repetition 2/5 ---\n",
            "  Sample 1/10 → ✔ Consensus\n",
            "  Sample 2/10 → ✔ Consensus\n",
            "  Sample 3/10 → ✔ Consensus\n",
            "  Sample 4/10 → ✔ Consensus\n",
            "  Sample 5/10 → ✔ Consensus\n",
            "  Sample 6/10 → ✔ Consensus\n",
            "  Sample 7/10 → ✔ Consensus\n",
            "  Sample 8/10 → ✔ Consensus\n",
            "  Sample 9/10 → ✔ Consensus\n",
            "  Sample 10/10 → ✔ Consensus\n",
            "  Consensus Probability for Repetition 2: 1.000\n",
            "\n",
            "--- Repetition 3/5 ---\n",
            "  Sample 1/10 → ✔ Consensus\n",
            "  Sample 2/10 → ✔ Consensus\n",
            "  Sample 3/10 → ✔ Consensus\n",
            "  Sample 4/10 → ✔ Consensus\n",
            "  Sample 5/10 → ✔ Consensus\n",
            "  Sample 6/10 → ✔ Consensus\n",
            "  Sample 7/10 → ✔ Consensus\n",
            "  Sample 8/10 → ✔ Consensus\n",
            "  Sample 9/10 → ✔ Consensus\n",
            "  Sample 10/10 → ✔ Consensus\n",
            "  Consensus Probability for Repetition 3: 1.000\n",
            "\n",
            "--- Repetition 4/5 ---\n",
            "  Sample 1/10 → ✔ Consensus\n",
            "  Sample 2/10 → ✔ Consensus\n",
            "  Sample 3/10 → ✔ Consensus\n",
            "  Sample 4/10 → ✔ Consensus\n",
            "  Sample 5/10 → ✔ Consensus\n",
            "  Sample 6/10 → ✔ Consensus\n",
            "  Sample 7/10 → ✔ Consensus\n",
            "  Sample 8/10 → ✔ Consensus\n",
            "  Sample 9/10 → ✔ Consensus\n",
            "  Sample 10/10 → ✔ Consensus\n",
            "  Consensus Probability for Repetition 4: 1.000\n",
            "\n",
            "--- Repetition 5/5 ---\n",
            "  Sample 1/10 → ✔ Consensus\n",
            "  Sample 2/10 → ✔ Consensus\n",
            "  Sample 3/10 → ✔ Consensus\n",
            "  Sample 4/10 → ✔ Consensus\n",
            "  Sample 5/10 → ✔ Consensus\n",
            "  Sample 6/10 → ✔ Consensus\n",
            "  Sample 7/10 → ✔ Consensus\n",
            "  Sample 8/10 → ✔ Consensus\n",
            "  Sample 9/10 → ✔ Consensus\n",
            "  Sample 10/10 → ✔ Consensus\n",
            "  Consensus Probability for Repetition 5: 1.000\n",
            "\n",
            "Average Consensus Probability over 5 repetitions: 1.000\n"
          ]
        }
      ],
      "source": [
        "ZX = ZY = 10\n",
        "N = 100\n",
        "initial_state = [40, 40, 20]\n",
        "\n",
        "num_repetitions = 5  # Define the number of times to repeat the simulation\n",
        "samples_per_run = 10 # Define the number of samples per run\n",
        "\n",
        "all_probabilities = [] # List to store consensus probabilities from each repetition\n",
        "\n",
        "print(f\"Running {num_repetitions} repetitions with {samples_per_run} samples each.\")\n",
        "\n",
        "for rep in range(num_repetitions):\n",
        "    success = 0\n",
        "    print(f\"\\n--- Repetition {rep + 1}/{num_repetitions} ---\")\n",
        "    for i in range(samples_per_run):\n",
        "        traj = gillespie_simulation(initial_state, ZX, ZY, N)\n",
        "        satisfied = check_consensus_property(traj, ZX, ZY)\n",
        "        if satisfied:\n",
        "            success += 1\n",
        "        print(f\"  Sample {i+1}/{samples_per_run} → {'✔ Consensus' if satisfied else '✘ No consensus'}\")\n",
        "\n",
        "    final_consensus_probability = success / samples_per_run\n",
        "    all_probabilities.append(final_consensus_probability)\n",
        "    print(f\"  Consensus Probability for Repetition {rep + 1}: {final_consensus_probability:.3f}\")\n",
        "\n",
        "average_consensus_probability = np.mean(all_probabilities)\n",
        "print(f\"\\nAverage Consensus Probability over {num_repetitions} repetitions: {average_consensus_probability:.3f}\")\n",
        "\n",
        "# Combine initial_state and average_consensus_probability into a single row\n",
        "data_to_save = np.asarray([initial_state + [average_consensus_probability]])\n",
        "np.savetxt(\"objective1_external_averaged.csv\", data_to_save, delimiter=\",\")"
      ]
    },
    {
      "cell_type": "markdown",
      "id": "bfbabbb3",
      "metadata": {
        "id": "bfbabbb3"
      },
      "source": [
        "## 🔁 Objective 2: Varying Zealots ZX = ZY"
      ]
    },
    {
      "cell_type": "code",
      "execution_count": null,
      "id": "adb4a4c4",
      "metadata": {
        "colab": {
          "base_uri": "https://localhost:8080/",
          "height": 1000
        },
        "id": "adb4a4c4",
        "outputId": "0e8c7bde-64d0-4ce4-d06d-6570069aaf7d"
      },
      "outputs": [
        {
          "output_type": "stream",
          "name": "stdout",
          "text": [
            "Running 5 repetitions with 10 samples each for varying zealots.\n",
            "\n",
            "--- Zealot count: ZX = ZY = 5 ---\n",
            "  Repetition 1/5\n",
            "    Consensus Probability for Repetition 1: 1.000\n",
            "  Repetition 2/5\n",
            "    Consensus Probability for Repetition 2: 1.000\n",
            "  Repetition 3/5\n",
            "    Consensus Probability for Repetition 3: 1.000\n",
            "  Repetition 4/5\n",
            "    Consensus Probability for Repetition 4: 1.000\n",
            "  Repetition 5/5\n",
            "    Consensus Probability for Repetition 5: 1.000\n",
            "  → Average Consensus probability for 5 zealots over 5 repetitions: 1.000\n",
            "\n",
            "--- Zealot count: ZX = ZY = 10 ---\n",
            "  Repetition 1/5\n",
            "    Consensus Probability for Repetition 1: 1.000\n",
            "  Repetition 2/5\n",
            "    Consensus Probability for Repetition 2: 1.000\n",
            "  Repetition 3/5\n",
            "    Consensus Probability for Repetition 3: 1.000\n",
            "  Repetition 4/5\n",
            "    Consensus Probability for Repetition 4: 1.000\n",
            "  Repetition 5/5\n",
            "    Consensus Probability for Repetition 5: 1.000\n",
            "  → Average Consensus probability for 10 zealots over 5 repetitions: 1.000\n",
            "\n",
            "--- Zealot count: ZX = ZY = 15 ---\n",
            "  Repetition 1/5\n",
            "    Consensus Probability for Repetition 1: 1.000\n",
            "  Repetition 2/5\n",
            "    Consensus Probability for Repetition 2: 1.000\n",
            "  Repetition 3/5\n",
            "    Consensus Probability for Repetition 3: 1.000\n",
            "  Repetition 4/5\n",
            "    Consensus Probability for Repetition 4: 1.000\n",
            "  Repetition 5/5\n",
            "    Consensus Probability for Repetition 5: 1.000\n",
            "  → Average Consensus probability for 15 zealots over 5 repetitions: 1.000\n",
            "\n",
            "--- Zealot count: ZX = ZY = 20 ---\n",
            "  Repetition 1/5\n",
            "    Consensus Probability for Repetition 1: 0.900\n",
            "  Repetition 2/5\n",
            "    Consensus Probability for Repetition 2: 1.000\n",
            "  Repetition 3/5\n",
            "    Consensus Probability for Repetition 3: 1.000\n",
            "  Repetition 4/5\n",
            "    Consensus Probability for Repetition 4: 1.000\n",
            "  Repetition 5/5\n",
            "    Consensus Probability for Repetition 5: 0.900\n",
            "  → Average Consensus probability for 20 zealots over 5 repetitions: 0.960\n",
            "\n",
            "--- Zealot count: ZX = ZY = 25 ---\n",
            "  Repetition 1/5\n",
            "    Consensus Probability for Repetition 1: 0.800\n",
            "  Repetition 2/5\n",
            "    Consensus Probability for Repetition 2: 0.800\n",
            "  Repetition 3/5\n",
            "    Consensus Probability for Repetition 3: 0.900\n",
            "  Repetition 4/5\n",
            "    Consensus Probability for Repetition 4: 0.800\n",
            "  Repetition 5/5\n",
            "    Consensus Probability for Repetition 5: 0.700\n",
            "  → Average Consensus probability for 25 zealots over 5 repetitions: 0.800\n",
            "\n",
            "--- Zealot count: ZX = ZY = 30 ---\n",
            "  Repetition 1/5\n",
            "    Consensus Probability for Repetition 1: 0.400\n",
            "  Repetition 2/5\n",
            "    Consensus Probability for Repetition 2: 0.500\n",
            "  Repetition 3/5\n",
            "    Consensus Probability for Repetition 3: 0.500\n",
            "  Repetition 4/5\n",
            "    Consensus Probability for Repetition 4: 0.500\n",
            "  Repetition 5/5\n",
            "    Consensus Probability for Repetition 5: 0.300\n",
            "  → Average Consensus probability for 30 zealots over 5 repetitions: 0.440\n",
            "\n",
            "--- Zealot count: ZX = ZY = 35 ---\n",
            "  Repetition 1/5\n",
            "    Consensus Probability for Repetition 1: 0.000\n",
            "  Repetition 2/5\n",
            "    Consensus Probability for Repetition 2: 0.000\n",
            "  Repetition 3/5\n",
            "    Consensus Probability for Repetition 3: 0.100\n",
            "  Repetition 4/5\n",
            "    Consensus Probability for Repetition 4: 0.200\n",
            "  Repetition 5/5\n",
            "    Consensus Probability for Repetition 5: 0.100\n",
            "  → Average Consensus probability for 35 zealots over 5 repetitions: 0.080\n",
            "\n",
            "--- Zealot count: ZX = ZY = 40 ---\n",
            "  Repetition 1/5\n",
            "    Consensus Probability for Repetition 1: 0.000\n",
            "  Repetition 2/5\n",
            "    Consensus Probability for Repetition 2: 0.000\n",
            "  Repetition 3/5\n",
            "    Consensus Probability for Repetition 3: 0.000\n",
            "  Repetition 4/5\n",
            "    Consensus Probability for Repetition 4: 0.000\n",
            "  Repetition 5/5\n",
            "    Consensus Probability for Repetition 5: 0.000\n",
            "  → Average Consensus probability for 40 zealots over 5 repetitions: 0.000\n",
            "\n",
            "--- Zealot count: ZX = ZY = 45 ---\n",
            "  Repetition 1/5\n",
            "    Consensus Probability for Repetition 1: 0.000\n",
            "  Repetition 2/5\n",
            "    Consensus Probability for Repetition 2: 0.000\n",
            "  Repetition 3/5\n",
            "    Consensus Probability for Repetition 3: 0.000\n",
            "  Repetition 4/5\n",
            "    Consensus Probability for Repetition 4: 0.000\n",
            "  Repetition 5/5\n",
            "    Consensus Probability for Repetition 5: 0.000\n",
            "  → Average Consensus probability for 45 zealots over 5 repetitions: 0.000\n"
          ]
        },
        {
          "output_type": "display_data",
          "data": {
            "text/plain": [
              "<Figure size 800x500 with 1 Axes>"
            ],
            "image/png": "[encoded data removed]"
          },
          "metadata": {}
        }
      ],
      "source": [
        "zealot_range = [5, 10, 15, 20, 25, 30, 35, 40, 45]\n",
        "results = []\n",
        "num_repetitions = 5 # Number of repetitions\n",
        "samples_per_run = 10 # Samples per run\n",
        "N = 100\n",
        "initial_state = [40, 40, 20]\n",
        "\n",
        "print(f\"Running {num_repetitions} repetitions with {samples_per_run} samples each for varying zealots.\")\n",
        "\n",
        "for z in zealot_range:\n",
        "    all_probabilities = []\n",
        "    print(f\"\\n--- Zealot count: ZX = ZY = {z} ---\")\n",
        "    for rep in range(num_repetitions):\n",
        "        success = 0\n",
        "        print(f\"  Repetition {rep + 1}/{num_repetitions}\")\n",
        "        for i in range(samples_per_run):\n",
        "            traj = gillespie_simulation(initial_state, z, z, N)\n",
        "            satisfied = check_consensus_property(traj, z, z)\n",
        "            if satisfied:\n",
        "                success += 1\n",
        "            # print(f\"    Sample {i+1}/{samples_per_run} → {'✔ Consensus' if satisfied else '✘ No consensus'}\") # Optional: uncomment to see individual sample results\n",
        "        probability = success / samples_per_run\n",
        "        all_probabilities.append(probability)\n",
        "        print(f\"    Consensus Probability for Repetition {rep + 1}: {probability:.3f}\")\n",
        "\n",
        "    average_probability = np.mean(all_probabilities)\n",
        "    results.append(average_probability)\n",
        "    print(f\"  → Average Consensus probability for {z} zealots over {num_repetitions} repetitions: {average_probability:.3f}\")\n",
        "\n",
        "\n",
        "# Plotting results\n",
        "import matplotlib.pyplot as plt\n",
        "\n",
        "plt.figure(figsize=(8, 5))\n",
        "plt.plot(zealot_range, results, marker='o')\n",
        "plt.title(\"Consensus Probability vs Zealot Count (ZX = ZY) - Averaged over Repetitions\")\n",
        "plt.xlabel(\"Number of Zealots (ZX = ZY)\")\n",
        "plt.ylabel(\"Average Consensus Probability\")\n",
        "plt.grid(True)\n",
        "plt.show()\n",
        "plt.save(\"varying_zealots_plot.png\")\n",
        "\n",
        "\n",
        "# Save results as CSV\n",
        "# Transpose the data for saving as columns: Zealot Count | Average Probability\n",
        "data_to_save = np.asarray([zealot_range, results]).T\n",
        "np.savetxt(\"objective2_external_averaged.csv\", data_to_save, delimiter=\",\", header=\"Zealot_Count,Average_Probability\", comments=\"\")"
      ]
    },
    {
      "cell_type": "markdown",
      "id": "8fed01e9",
      "metadata": {
        "id": "8fed01e9"
      },
      "source": [
        "## 📈 Objective 3: Varying Group Size N"
      ]
    },
    {
      "cell_type": "code",
      "execution_count": null,
      "id": "fc31aaa4",
      "metadata": {
        "colab": {
          "base_uri": "https://localhost:8080/",
          "height": 1000
        },
        "id": "fc31aaa4",
        "outputId": "99e0250d-aabd-4059-8c40-b71f93031db3"
      },
      "outputs": [
        {
          "output_type": "stream",
          "name": "stdout",
          "text": [
            "Running 5 repetitions with 10 samples each for varying group sizes.\n"
          ]
        },
        {
          "output_type": "stream",
          "name": "stderr",
          "text": [
            "\rGroup Size Loop:   0%|          | 0/5 [00:00<?, ?it/s]"
          ]
        },
        {
          "output_type": "stream",
          "name": "stdout",
          "text": [
            "\n",
            "--- Group Size N = 50 ---\n",
            "  Zealots: ZX = ZY = 5\n",
            "  Initial state: X = 25, Y = 25, U = 0\n",
            "  Repetition 1/5\n",
            "    Consensus Probability for Repetition 1: 0.000\n",
            "  Repetition 2/5\n",
            "    Consensus Probability for Repetition 2: 0.000\n",
            "  Repetition 3/5\n",
            "    Consensus Probability for Repetition 3: 0.000\n",
            "  Repetition 4/5\n"
          ]
        },
        {
          "output_type": "stream",
          "name": "stderr",
          "text": [
            "\rGroup Size Loop:  20%|██        | 1/5 [00:00<00:01,  2.58it/s]"
          ]
        },
        {
          "output_type": "stream",
          "name": "stdout",
          "text": [
            "    Consensus Probability for Repetition 4: 0.000\n",
            "  Repetition 5/5\n",
            "    Consensus Probability for Repetition 5: 0.000\n",
            "  → Average Consensus probability for N=50 over 5 repetitions: 0.000\n",
            "\n",
            "--- Group Size N = 75 ---\n",
            "  Zealots: ZX = ZY = 7\n",
            "  Initial state: X = 37, Y = 37, U = 1\n",
            "  Repetition 1/5\n",
            "    Consensus Probability for Repetition 1: 1.000\n",
            "  Repetition 2/5\n",
            "    Consensus Probability for Repetition 2: 1.000\n",
            "  Repetition 3/5\n",
            "    Consensus Probability for Repetition 3: 1.000\n",
            "  Repetition 4/5\n",
            "    Consensus Probability for Repetition 4: 1.000\n",
            "  Repetition 5/5\n"
          ]
        },
        {
          "output_type": "stream",
          "name": "stderr",
          "text": [
            "\rGroup Size Loop:  40%|████      | 2/5 [00:00<00:01,  2.20it/s]"
          ]
        },
        {
          "output_type": "stream",
          "name": "stdout",
          "text": [
            "    Consensus Probability for Repetition 5: 1.000\n",
            "  → Average Consensus probability for N=75 over 5 repetitions: 1.000\n",
            "\n",
            "--- Group Size N = 100 ---\n",
            "  Zealots: ZX = ZY = 10\n",
            "  Initial state: X = 50, Y = 50, U = 0\n",
            "  Repetition 1/5\n",
            "    Consensus Probability for Repetition 1: 1.000\n",
            "  Repetition 2/5\n",
            "    Consensus Probability for Repetition 2: 1.000\n",
            "  Repetition 3/5\n",
            "    Consensus Probability for Repetition 3: 1.000\n",
            "  Repetition 4/5\n",
            "    Consensus Probability for Repetition 4: 1.000\n",
            "  Repetition 5/5\n"
          ]
        },
        {
          "output_type": "stream",
          "name": "stderr",
          "text": [
            "\rGroup Size Loop:  60%|██████    | 3/5 [00:01<00:01,  1.54it/s]"
          ]
        },
        {
          "output_type": "stream",
          "name": "stdout",
          "text": [
            "    Consensus Probability for Repetition 5: 1.000\n",
            "  → Average Consensus probability for N=100 over 5 repetitions: 1.000\n",
            "\n",
            "--- Group Size N = 125 ---\n",
            "  Zealots: ZX = ZY = 12\n",
            "  Initial state: X = 62, Y = 62, U = 1\n",
            "  Repetition 1/5\n",
            "    Consensus Probability for Repetition 1: 1.000\n",
            "  Repetition 2/5\n",
            "    Consensus Probability for Repetition 2: 1.000\n",
            "  Repetition 3/5\n",
            "    Consensus Probability for Repetition 3: 1.000\n",
            "  Repetition 4/5\n"
          ]
        },
        {
          "output_type": "stream",
          "name": "stderr",
          "text": [
            "\rGroup Size Loop:  80%|████████  | 4/5 [00:03<00:01,  1.26s/it]"
          ]
        },
        {
          "output_type": "stream",
          "name": "stdout",
          "text": [
            "    Consensus Probability for Repetition 4: 1.000\n",
            "  Repetition 5/5\n",
            "    Consensus Probability for Repetition 5: 1.000\n",
            "  → Average Consensus probability for N=125 over 5 repetitions: 1.000\n",
            "\n",
            "--- Group Size N = 150 ---\n",
            "  Zealots: ZX = ZY = 15\n",
            "  Initial state: X = 75, Y = 75, U = 0\n",
            "  Repetition 1/5\n",
            "    Consensus Probability for Repetition 1: 1.000\n",
            "  Repetition 2/5\n",
            "    Consensus Probability for Repetition 2: 1.000\n",
            "  Repetition 3/5\n",
            "    Consensus Probability for Repetition 3: 1.000\n",
            "  Repetition 4/5\n",
            "    Consensus Probability for Repetition 4: 1.000\n",
            "  Repetition 5/5\n"
          ]
        },
        {
          "output_type": "stream",
          "name": "stderr",
          "text": [
            "Group Size Loop: 100%|██████████| 5/5 [00:06<00:00,  1.32s/it]"
          ]
        },
        {
          "output_type": "stream",
          "name": "stdout",
          "text": [
            "    Consensus Probability for Repetition 5: 1.000\n",
            "  → Average Consensus probability for N=150 over 5 repetitions: 1.000\n"
          ]
        },
        {
          "output_type": "stream",
          "name": "stderr",
          "text": [
            "\n"
          ]
        },
        {
          "output_type": "display_data",
          "data": {
            "text/plain": [
              "<Figure size 800x500 with 1 Axes>"
            ],
            "image/png": "[encoded data removed]"
          },
          "metadata": {}
        }
      ],
      "source": [
        "from tqdm import tqdm\n",
        "import matplotlib.pyplot as plt\n",
        "import numpy as np # Import numpy\n",
        "\n",
        "# Vary group size and zealot percentage\n",
        "group_sizes = [50, 75, 100, 125, 150]\n",
        "zealot_percent = 0.1\n",
        "num_repetitions = 5 # Number of repetitions\n",
        "samples_per_run = 10 # Samples per run\n",
        "average_probs = []\n",
        "\n",
        "print(f\"Running {num_repetitions} repetitions with {samples_per_run} samples each for varying group sizes.\")\n",
        "\n",
        "for N_val in tqdm(group_sizes, desc=\"Group Size Loop\"):\n",
        "    zealots = int(zealot_percent * N_val)\n",
        "    avail = N_val\n",
        "    # Ensure initial state values are non-negative\n",
        "    X0 = max(0, int(avail * 0.5))\n",
        "    Y0 = max(0, int(avail * 0.5))\n",
        "    U0 = max(0, avail - X0 - Y0)\n",
        "    initial = [X0, Y0, U0]\n",
        "\n",
        "    all_probabilities = []\n",
        "    print(f\"\\n--- Group Size N = {N_val} ---\")\n",
        "    print(f\"  Zealots: ZX = ZY = {zealots}\")\n",
        "    print(f\"  Initial state: X = {X0}, Y = {Y0}, U = {U0}\")\n",
        "\n",
        "    for rep in range(num_repetitions):\n",
        "        success = 0\n",
        "        print(f\"  Repetition {rep + 1}/{num_repetitions}\")\n",
        "        for i in range(samples_per_run):\n",
        "            traj = gillespie_simulation(initial, zealots, zealots, N_val)\n",
        "            satisfied = check_consensus_property(traj, zealots, zealots)\n",
        "            if satisfied:\n",
        "                success += 1\n",
        "            # print(f\"    Sample {i+1}/{samples_per_run} → {'✔ Consensus' if satisfied else '✘ No consensus'}\") # Optional: uncomment to see individual sample results\n",
        "\n",
        "        probability = success / samples_per_run\n",
        "        all_probabilities.append(probability)\n",
        "        print(f\"    Consensus Probability for Repetition {rep + 1}: {probability:.3f}\")\n",
        "\n",
        "    average_probability = np.mean(all_probabilities)\n",
        "    average_probs.append(average_probability)\n",
        "    print(f\"  → Average Consensus probability for N={N_val} over {num_repetitions} repetitions: {average_probability:.3f}\")\n",
        "\n",
        "\n",
        "# Plot results\n",
        "plt.figure(figsize=(8, 5))\n",
        "plt.plot(group_sizes, average_probs, marker='s')\n",
        "plt.title(\"Consensus Probability vs Group Size (10% Zealots) - Averaged over Repetitions\")\n",
        "plt.xlabel(\"Group Size N\")\n",
        "plt.ylabel(\"Average Consensus Probability\")\n",
        "plt.grid(True)\n",
        "plt.show()\n",
        "plt.save(\"group_consensus_plot.png\")\n",
        "\n",
        "# Save results as CSV\n",
        "data_to_save = np.asarray([group_sizes, average_probs]).T\n",
        "np.savetxt(\"objective3_external_averaged.csv\", data_to_save, delimiter=\",\", header=\"Group_Size,Average_Probability\", comments=\"\")"
      ]
    },
    {
      "cell_type": "markdown",
      "source": [
        "# Experiments with \"INTERNAL\" zealots.\n",
        "The different setting amounts to very simply subtracting the number of zealots from the initial state number of each population."
      ],
      "metadata": {
        "id": "raglbSR9jTxZ"
      },
      "id": "raglbSR9jTxZ"
    },
    {
      "cell_type": "markdown",
      "source": [
        "## 🎯 Objective 1: Consensus Probability from Default Initial State\n",
        "\n"
      ],
      "metadata": {
        "id": "-IZ_MXYDjvjH"
      },
      "id": "-IZ_MXYDjvjH"
    },
    {
      "cell_type": "code",
      "source": [
        "ZX = ZY = 10\n",
        "N = 100\n",
        "initial_state = [40 - ZX, 40 - ZY, 20]\n",
        "\n",
        "num_repetitions = 5 # Number of repetitions\n",
        "samples_per_run = 10 # Samples per run\n",
        "all_probabilities = [] # List to store consensus probabilities from each repetition\n",
        "\n",
        "print(f\"Running {num_repetitions} repetitions with {samples_per_run} samples each.\")\n",
        "print(f\"Simulating for N={N}, ZX=ZY={ZX}, initial state={initial_state}:\\n\")\n",
        "\n",
        "for rep in range(num_repetitions):\n",
        "    success = 0\n",
        "    print(f\"\\n--- Repetition {rep + 1}/{num_repetitions} ---\")\n",
        "    for i in range(samples_per_run):\n",
        "        traj = gillespie_simulation(initial_state, ZX, ZY, N)\n",
        "        satisfied = check_consensus_property(traj, ZX, ZY)\n",
        "        if satisfied:\n",
        "            success += 1\n",
        "        print(f\"  Sample {i+1}/{samples_per_run} → {'✔ Consensus' if satisfied else '✘ No consensus'}\")\n",
        "\n",
        "    final_consensus_probability = success/samples_per_run\n",
        "    all_probabilities.append(final_consensus_probability)\n",
        "    print(f\"  Consensus Probability for Repetition {rep + 1}: {final_consensus_probability:.3f}\")\n",
        "\n",
        "average_consensus_probability = np.mean(all_probabilities)\n",
        "print(f\"\\nAverage Consensus Probability over {num_repetitions} repetitions: {average_consensus_probability:.3f}\")\n",
        "\n",
        "# Combine initial_state and average_consensus_probability into a single row\n",
        "data_to_save = np.asarray([initial_state + [average_consensus_probability]])\n",
        "np.savetxt(\"objective1_internal_averaged.csv\", data_to_save, delimiter=\",\")"
      ],
      "metadata": {
        "colab": {
          "base_uri": "https://localhost:8080/"
        },
        "id": "moalnpw5jwWc",
        "outputId": "0b0eb8ad-67cb-4135-c006-777105e8f56b"
      },
      "id": "moalnpw5jwWc",
      "execution_count": null,
      "outputs": [
        {
          "output_type": "stream",
          "name": "stdout",
          "text": [
            "Running 5 repetitions with 10 samples each.\n",
            "Simulating for N=100, ZX=ZY=10, initial state=[30, 30, 20]:\n",
            "\n",
            "\n",
            "--- Repetition 1/5 ---\n",
            "  Sample 1/10 → ✔ Consensus\n",
            "  Sample 2/10 → ✔ Consensus\n",
            "  Sample 3/10 → ✔ Consensus\n",
            "  Sample 4/10 → ✔ Consensus\n",
            "  Sample 5/10 → ✔ Consensus\n",
            "  Sample 6/10 → ✔ Consensus\n",
            "  Sample 7/10 → ✔ Consensus\n",
            "  Sample 8/10 → ✔ Consensus\n",
            "  Sample 9/10 → ✔ Consensus\n",
            "  Sample 10/10 → ✔ Consensus\n",
            "  Consensus Probability for Repetition 1: 1.000\n",
            "\n",
            "--- Repetition 2/5 ---\n",
            "  Sample 1/10 → ✔ Consensus\n",
            "  Sample 2/10 → ✔ Consensus\n",
            "  Sample 3/10 → ✔ Consensus\n",
            "  Sample 4/10 → ✔ Consensus\n",
            "  Sample 5/10 → ✔ Consensus\n",
            "  Sample 6/10 → ✔ Consensus\n",
            "  Sample 7/10 → ✔ Consensus\n",
            "  Sample 8/10 → ✔ Consensus\n",
            "  Sample 9/10 → ✔ Consensus\n",
            "  Sample 10/10 → ✔ Consensus\n",
            "  Consensus Probability for Repetition 2: 1.000\n",
            "\n",
            "--- Repetition 3/5 ---\n",
            "  Sample 1/10 → ✔ Consensus\n",
            "  Sample 2/10 → ✔ Consensus\n",
            "  Sample 3/10 → ✔ Consensus\n",
            "  Sample 4/10 → ✔ Consensus\n",
            "  Sample 5/10 → ✔ Consensus\n",
            "  Sample 6/10 → ✔ Consensus\n",
            "  Sample 7/10 → ✔ Consensus\n",
            "  Sample 8/10 → ✔ Consensus\n",
            "  Sample 9/10 → ✔ Consensus\n",
            "  Sample 10/10 → ✔ Consensus\n",
            "  Consensus Probability for Repetition 3: 1.000\n",
            "\n",
            "--- Repetition 4/5 ---\n",
            "  Sample 1/10 → ✔ Consensus\n",
            "  Sample 2/10 → ✔ Consensus\n",
            "  Sample 3/10 → ✔ Consensus\n",
            "  Sample 4/10 → ✔ Consensus\n",
            "  Sample 5/10 → ✔ Consensus\n",
            "  Sample 6/10 → ✔ Consensus\n",
            "  Sample 7/10 → ✔ Consensus\n",
            "  Sample 8/10 → ✔ Consensus\n",
            "  Sample 9/10 → ✔ Consensus\n",
            "  Sample 10/10 → ✔ Consensus\n",
            "  Consensus Probability for Repetition 4: 1.000\n",
            "\n",
            "--- Repetition 5/5 ---\n",
            "  Sample 1/10 → ✔ Consensus\n",
            "  Sample 2/10 → ✔ Consensus\n",
            "  Sample 3/10 → ✔ Consensus\n",
            "  Sample 4/10 → ✔ Consensus\n",
            "  Sample 5/10 → ✔ Consensus\n",
            "  Sample 6/10 → ✔ Consensus\n",
            "  Sample 7/10 → ✔ Consensus\n",
            "  Sample 8/10 → ✔ Consensus\n",
            "  Sample 9/10 → ✔ Consensus\n",
            "  Sample 10/10 → ✔ Consensus\n",
            "  Consensus Probability for Repetition 5: 1.000\n",
            "\n",
            "Average Consensus Probability over 5 repetitions: 1.000\n"
          ]
        }
      ]
    },
    {
      "cell_type": "markdown",
      "source": [],
      "metadata": {
        "id": "ohsCJwiojwtW"
      },
      "id": "ohsCJwiojwtW"
    },
    {
      "cell_type": "markdown",
      "source": [
        "## 🔁 Objective 2: Varying Zealots ZX = ZY"
      ],
      "metadata": {
        "id": "coZqUv4UjzCo"
      },
      "id": "coZqUv4UjzCo"
    },
    {
      "cell_type": "code",
      "source": [
        "zealot_range = [5, 10, 15, 20, 25, 30, 35, 40, 45]\n",
        "results = []\n",
        "num_repetitions = 5 # Number of repetitions\n",
        "samples_per_run = 10 # Samples per run\n",
        "N = 100\n",
        "\n",
        "print(f\"Running {num_repetitions} repetitions with {samples_per_run} samples each for varying zealots.\")\n",
        "\n",
        "for z in zealot_range:\n",
        "    all_probabilities = []\n",
        "    initial_state = [40 - z, 40 - z, 20]\n",
        "    print(f\"\\n--- Zealot count: ZX = ZY = {z} ---\")\n",
        "    print(f\"  Initial state: {initial_state}\")\n",
        "    for rep in range(num_repetitions):\n",
        "        success = 0\n",
        "        print(f\"  Repetition {rep + 1}/{num_repetitions}\")\n",
        "        for i in range(samples_per_run):\n",
        "            traj = gillespie_simulation(initial_state, z, z, N)\n",
        "            satisfied = check_consensus_property(traj, z, z)\n",
        "            if satisfied:\n",
        "                success += 1\n",
        "            # print(f\"    Sample {i+1}/{samples_per_run} → {'✔ Consensus' if satisfied else '✘ No consensus'}\") # Optional: uncomment to see individual sample results\n",
        "\n",
        "        probability = success / samples_per_run\n",
        "        all_probabilities.append(probability)\n",
        "        print(f\"    Consensus Probability for Repetition {rep + 1}: {probability:.3f}\")\n",
        "\n",
        "    average_probability = np.mean(all_probabilities)\n",
        "    results.append(average_probability)\n",
        "    print(f\"  → Average Consensus probability for {z} zealots over {num_repetitions} repetitions: {average_probability:.3f}\")\n",
        "\n",
        "# Plotting results\n",
        "import matplotlib.pyplot as plt\n",
        "\n",
        "plt.figure(figsize=(8, 5))\n",
        "plt.plot(zealot_range, results, marker='o')\n",
        "plt.title(\"Consensus Probability vs Zealot Count (ZX = ZY) - Averaged over Repetitions\")\n",
        "plt.xlabel(\"Number of Zealots (ZX = ZY)\")\n",
        "plt.ylabel(\"Average Consensus Probability\")\n",
        "plt.grid(True)\n",
        "plt.show()\n",
        "\n",
        "# Save results as CSV\n",
        "# Transpose the data for saving as columns: Zealot Count | Average Probability\n",
        "data_to_save = np.asarray([zealot_range, results]).T\n",
        "np.savetxt(\"objective2_internal_averaged.csv\", data_to_save, delimiter=\",\", header=\"Zealot_Count,Average_Probability\", comments=\"\")"
      ],
      "metadata": {
        "colab": {
          "base_uri": "https://localhost:8080/",
          "height": 1000
        },
        "id": "gJKa_LM4j10W",
        "outputId": "b537fc3e-2639-4170-f2ec-80b0c1679c4c"
      },
      "id": "gJKa_LM4j10W",
      "execution_count": null,
      "outputs": [
        {
          "output_type": "stream",
          "name": "stdout",
          "text": [
            "Running 5 repetitions with 10 samples each for varying zealots.\n",
            "\n",
            "--- Zealot count: ZX = ZY = 5 ---\n",
            "  Initial state: [35, 35, 20]\n",
            "  Repetition 1/5\n",
            "    Consensus Probability for Repetition 1: 1.000\n",
            "  Repetition 2/5\n",
            "    Consensus Probability for Repetition 2: 1.000\n",
            "  Repetition 3/5\n",
            "    Consensus Probability for Repetition 3: 1.000\n",
            "  Repetition 4/5\n",
            "    Consensus Probability for Repetition 4: 1.000\n",
            "  Repetition 5/5\n",
            "    Consensus Probability for Repetition 5: 1.000\n",
            "  → Average Consensus probability for 5 zealots over 5 repetitions: 1.000\n",
            "\n",
            "--- Zealot count: ZX = ZY = 10 ---\n",
            "  Initial state: [30, 30, 20]\n",
            "  Repetition 1/5\n",
            "    Consensus Probability for Repetition 1: 1.000\n",
            "  Repetition 2/5\n",
            "    Consensus Probability for Repetition 2: 1.000\n",
            "  Repetition 3/5\n",
            "    Consensus Probability for Repetition 3: 1.000\n",
            "  Repetition 4/5\n",
            "    Consensus Probability for Repetition 4: 0.900\n",
            "  Repetition 5/5\n",
            "    Consensus Probability for Repetition 5: 1.000\n",
            "  → Average Consensus probability for 10 zealots over 5 repetitions: 0.980\n",
            "\n",
            "--- Zealot count: ZX = ZY = 15 ---\n",
            "  Initial state: [25, 25, 20]\n",
            "  Repetition 1/5\n",
            "    Consensus Probability for Repetition 1: 0.500\n",
            "  Repetition 2/5\n",
            "    Consensus Probability for Repetition 2: 0.500\n",
            "  Repetition 3/5\n",
            "    Consensus Probability for Repetition 3: 0.500\n",
            "  Repetition 4/5\n",
            "    Consensus Probability for Repetition 4: 0.400\n",
            "  Repetition 5/5\n",
            "    Consensus Probability for Repetition 5: 0.600\n",
            "  → Average Consensus probability for 15 zealots over 5 repetitions: 0.500\n",
            "\n",
            "--- Zealot count: ZX = ZY = 20 ---\n",
            "  Initial state: [20, 20, 20]\n",
            "  Repetition 1/5\n",
            "    Consensus Probability for Repetition 1: 0.000\n",
            "  Repetition 2/5\n",
            "    Consensus Probability for Repetition 2: 0.000\n",
            "  Repetition 3/5\n",
            "    Consensus Probability for Repetition 3: 0.000\n",
            "  Repetition 4/5\n",
            "    Consensus Probability for Repetition 4: 0.000\n",
            "  Repetition 5/5\n",
            "    Consensus Probability for Repetition 5: 0.000\n",
            "  → Average Consensus probability for 20 zealots over 5 repetitions: 0.000\n",
            "\n",
            "--- Zealot count: ZX = ZY = 25 ---\n",
            "  Initial state: [15, 15, 20]\n",
            "  Repetition 1/5\n",
            "    Consensus Probability for Repetition 1: 0.000\n",
            "  Repetition 2/5\n",
            "    Consensus Probability for Repetition 2: 0.000\n",
            "  Repetition 3/5\n",
            "    Consensus Probability for Repetition 3: 0.000\n",
            "  Repetition 4/5\n",
            "    Consensus Probability for Repetition 4: 0.000\n",
            "  Repetition 5/5\n",
            "    Consensus Probability for Repetition 5: 0.000\n",
            "  → Average Consensus probability for 25 zealots over 5 repetitions: 0.000\n",
            "\n",
            "--- Zealot count: ZX = ZY = 30 ---\n",
            "  Initial state: [10, 10, 20]\n",
            "  Repetition 1/5\n",
            "    Consensus Probability for Repetition 1: 0.000\n",
            "  Repetition 2/5\n",
            "    Consensus Probability for Repetition 2: 0.000\n",
            "  Repetition 3/5\n",
            "    Consensus Probability for Repetition 3: 0.000\n",
            "  Repetition 4/5\n",
            "    Consensus Probability for Repetition 4: 0.000\n",
            "  Repetition 5/5\n",
            "    Consensus Probability for Repetition 5: 0.000\n",
            "  → Average Consensus probability for 30 zealots over 5 repetitions: 0.000\n",
            "\n",
            "--- Zealot count: ZX = ZY = 35 ---\n",
            "  Initial state: [5, 5, 20]\n",
            "  Repetition 1/5\n",
            "    Consensus Probability for Repetition 1: 0.000\n",
            "  Repetition 2/5\n",
            "    Consensus Probability for Repetition 2: 0.000\n",
            "  Repetition 3/5\n",
            "    Consensus Probability for Repetition 3: 0.000\n",
            "  Repetition 4/5\n",
            "    Consensus Probability for Repetition 4: 0.000\n",
            "  Repetition 5/5\n",
            "    Consensus Probability for Repetition 5: 0.000\n",
            "  → Average Consensus probability for 35 zealots over 5 repetitions: 0.000\n",
            "\n",
            "--- Zealot count: ZX = ZY = 40 ---\n",
            "  Initial state: [0, 0, 20]\n",
            "  Repetition 1/5\n",
            "    Consensus Probability for Repetition 1: 0.000\n",
            "  Repetition 2/5\n",
            "    Consensus Probability for Repetition 2: 0.000\n",
            "  Repetition 3/5\n",
            "    Consensus Probability for Repetition 3: 0.000\n",
            "  Repetition 4/5\n",
            "    Consensus Probability for Repetition 4: 0.000\n",
            "  Repetition 5/5\n",
            "    Consensus Probability for Repetition 5: 0.000\n",
            "  → Average Consensus probability for 40 zealots over 5 repetitions: 0.000\n",
            "\n",
            "--- Zealot count: ZX = ZY = 45 ---\n",
            "  Initial state: [-5, -5, 20]\n",
            "  Repetition 1/5\n",
            "    Consensus Probability for Repetition 1: 0.000\n",
            "  Repetition 2/5\n",
            "    Consensus Probability for Repetition 2: 0.000\n",
            "  Repetition 3/5\n",
            "    Consensus Probability for Repetition 3: 0.000\n",
            "  Repetition 4/5\n",
            "    Consensus Probability for Repetition 4: 0.000\n",
            "  Repetition 5/5\n",
            "    Consensus Probability for Repetition 5: 0.000\n",
            "  → Average Consensus probability for 45 zealots over 5 repetitions: 0.000\n"
          ]
        },
        {
          "output_type": "display_data",
          "data": {
            "text/plain": [
              "<Figure size 800x500 with 1 Axes>"
            ],
            "image/png": "[encoded data removed]"
          },
          "metadata": {}
        }
      ]
    },
    {
      "cell_type": "markdown",
      "source": [
        "## 📈 Objective 3: Varying Group Size N"
      ],
      "metadata": {
        "id": "f_foY5l_j2NE"
      },
      "id": "f_foY5l_j2NE"
    },
    {
      "cell_type": "code",
      "source": [
        "# vary group size and zealot as a percentage\n",
        "group_sizes = [50, 75, 100, 125, 150]\n",
        "zealot_percent = 0.1\n",
        "num_repetitions = 5 # Number of repetitions\n",
        "samples_per_run = 1000 # Samples per run\n",
        "average_probs = []\n",
        "\n",
        "print(f\"Running {num_repetitions} repetitions with {samples_per_run} samples each for varying group sizes.\")\n",
        "\n",
        "for N_val in tqdm(group_sizes):\n",
        "    zealots = int(zealot_percent * N_val)\n",
        "    avail = N_val - 2 * zealots\n",
        "    # Ensure initial state values are non-negative\n",
        "    X0 = max(0, int(avail * 0.5))\n",
        "    Y0 = max(0, int(avail * 0.5))\n",
        "    U0 = max(0, avail - X0 - Y0)\n",
        "    initial = [X0, Y0, U0]\n",
        "\n",
        "    all_probabilities = []\n",
        "    print(f\"\\n--- Group Size N = {N_val} ---\")\n",
        "    print(f\"  Zealots: ZX = ZY = {zealots}\")\n",
        "    print(f\"  Initial state: X = {X0}, Y = {Y0}, U = {U0}\")\n",
        "\n",
        "    for rep in range(num_repetitions):\n",
        "        success = 0\n",
        "        print(f\"  Repetition {rep + 1}/{num_repetitions}\")\n",
        "        for i in range(samples_per_run):\n",
        "            traj = gillespie_simulation(initial, zealots, zealots, N_val)\n",
        "            satisfied = check_consensus_property(traj, zealots, zealots)\n",
        "            if satisfied:\n",
        "                success += 1\n",
        "            # print(f\"    Sample {i+1}/{samples_per_run} → {'✔ Consensus' if satisfied else '✘ No consensus'}\") # Optional: uncomment to see individual sample results\n",
        "\n",
        "        probability = success / samples_per_run\n",
        "        all_probabilities.append(probability)\n",
        "        print(f\"    Consensus Probability for Repetition {rep + 1}: {probability:.3f}\")\n",
        "\n",
        "    average_probability = np.mean(all_probabilities)\n",
        "    average_probs.append(average_probability)\n",
        "    print(f\"  → Average Consensus probability for N={N_val} over {num_repetitions} repetitions: {average_probability:.3f}\")\n",
        "\n",
        "\n",
        "# Plot results\n",
        "plt.figure(figsize=(8, 5))\n",
        "plt.plot(group_sizes, average_probs, marker='s')\n",
        "plt.title(\"Consensus Probability vs Group Size (10% Zealots) - Averaged over Repetitions\")\n",
        "plt.xlabel(\"Group Size N\")\n",
        "plt.ylabel(\"Average Consensus Probability\")\n",
        "plt.grid(True)\n",
        "plt.show()\n",
        "\n",
        "# Save results as CSV\n",
        "data_to_save = np.asarray([group_sizes, average_probs]).T\n",
        "np.savetxt(\"objective3_internal_averaged.csv\", data_to_save, delimiter=\",\", header=\"Group_Size,Average_Probability\", comments=\"\")"
      ],
      "metadata": {
        "colab": {
          "base_uri": "https://localhost:8080/",
          "height": 1000
        },
        "id": "OUasFuCHj2oH",
        "outputId": "0214bdd9-b4e6-4085-eb7d-92a4e467ce1f"
      },
      "id": "OUasFuCHj2oH",
      "execution_count": null,
      "outputs": [
        {
          "output_type": "stream",
          "name": "stdout",
          "text": [
            "Running 5 repetitions with 1000 samples each for varying group sizes.\n"
          ]
        },
        {
          "output_type": "stream",
          "name": "stderr",
          "text": [
            "\r  0%|          | 0/5 [00:00<?, ?it/s]"
          ]
        },
        {
          "output_type": "stream",
          "name": "stdout",
          "text": [
            "\n",
            "--- Group Size N = 50 ---\n",
            "  Zealots: ZX = ZY = 5\n",
            "  Initial state: X = 20, Y = 20, U = 0\n",
            "  Repetition 1/5\n",
            "    Consensus Probability for Repetition 1: 0.000\n",
            "  Repetition 2/5\n",
            "    Consensus Probability for Repetition 2: 0.000\n",
            "  Repetition 3/5\n",
            "    Consensus Probability for Repetition 3: 0.000\n",
            "  Repetition 4/5\n",
            "    Consensus Probability for Repetition 4: 0.000\n",
            "  Repetition 5/5\n"
          ]
        },
        {
          "output_type": "stream",
          "name": "stderr",
          "text": [
            "\r 20%|██        | 1/5 [00:31<02:06, 31.69s/it]"
          ]
        },
        {
          "output_type": "stream",
          "name": "stdout",
          "text": [
            "    Consensus Probability for Repetition 5: 0.000\n",
            "  → Average Consensus probability for N=50 over 5 repetitions: 0.000\n",
            "\n",
            "--- Group Size N = 75 ---\n",
            "  Zealots: ZX = ZY = 7\n",
            "  Initial state: X = 30, Y = 30, U = 1\n",
            "  Repetition 1/5\n",
            "    Consensus Probability for Repetition 1: 0.728\n",
            "  Repetition 2/5\n",
            "    Consensus Probability for Repetition 2: 0.731\n",
            "  Repetition 3/5\n",
            "    Consensus Probability for Repetition 3: 0.734\n",
            "  Repetition 4/5\n",
            "    Consensus Probability for Repetition 4: 0.730\n",
            "  Repetition 5/5\n"
          ]
        },
        {
          "output_type": "stream",
          "name": "stderr",
          "text": [
            "\r 40%|████      | 2/5 [04:24<07:29, 149.83s/it]"
          ]
        },
        {
          "output_type": "stream",
          "name": "stdout",
          "text": [
            "    Consensus Probability for Repetition 5: 0.748\n",
            "  → Average Consensus probability for N=75 over 5 repetitions: 0.734\n",
            "\n",
            "--- Group Size N = 100 ---\n",
            "  Zealots: ZX = ZY = 10\n",
            "  Initial state: X = 40, Y = 40, U = 0\n",
            "  Repetition 1/5\n",
            "    Consensus Probability for Repetition 1: 0.992\n",
            "  Repetition 2/5\n",
            "    Consensus Probability for Repetition 2: 0.990\n",
            "  Repetition 3/5\n",
            "    Consensus Probability for Repetition 3: 0.994\n",
            "  Repetition 4/5\n",
            "    Consensus Probability for Repetition 4: 0.992\n",
            "  Repetition 5/5\n"
          ]
        },
        {
          "output_type": "stream",
          "name": "stderr",
          "text": [
            "\r 60%|██████    | 3/5 [05:36<03:48, 114.24s/it]"
          ]
        },
        {
          "output_type": "stream",
          "name": "stdout",
          "text": [
            "    Consensus Probability for Repetition 5: 0.982\n",
            "  → Average Consensus probability for N=100 over 5 repetitions: 0.990\n",
            "\n",
            "--- Group Size N = 125 ---\n",
            "  Zealots: ZX = ZY = 12\n",
            "  Initial state: X = 50, Y = 50, U = 1\n",
            "  Repetition 1/5\n",
            "    Consensus Probability for Repetition 1: 0.998\n",
            "  Repetition 2/5\n",
            "    Consensus Probability for Repetition 2: 0.993\n",
            "  Repetition 3/5\n",
            "    Consensus Probability for Repetition 3: 0.994\n",
            "  Repetition 4/5\n",
            "    Consensus Probability for Repetition 4: 0.995\n",
            "  Repetition 5/5\n"
          ]
        },
        {
          "output_type": "stream",
          "name": "stderr",
          "text": [
            "\r 80%|████████  | 4/5 [07:39<01:57, 117.96s/it]"
          ]
        },
        {
          "output_type": "stream",
          "name": "stdout",
          "text": [
            "    Consensus Probability for Repetition 5: 0.999\n",
            "  → Average Consensus probability for N=125 over 5 repetitions: 0.996\n",
            "\n",
            "--- Group Size N = 150 ---\n",
            "  Zealots: ZX = ZY = 15\n",
            "  Initial state: X = 60, Y = 60, U = 0\n",
            "  Repetition 1/5\n",
            "    Consensus Probability for Repetition 1: 0.997\n",
            "  Repetition 2/5\n",
            "    Consensus Probability for Repetition 2: 0.996\n",
            "  Repetition 3/5\n",
            "    Consensus Probability for Repetition 3: 0.998\n",
            "  Repetition 4/5\n",
            "    Consensus Probability for Repetition 4: 0.999\n",
            "  Repetition 5/5\n"
          ]
        },
        {
          "output_type": "stream",
          "name": "stderr",
          "text": [
            "100%|██████████| 5/5 [10:29<00:00, 125.86s/it]"
          ]
        },
        {
          "output_type": "stream",
          "name": "stdout",
          "text": [
            "    Consensus Probability for Repetition 5: 0.997\n",
            "  → Average Consensus probability for N=150 over 5 repetitions: 0.997\n"
          ]
        },
        {
          "output_type": "stream",
          "name": "stderr",
          "text": [
            "\n"
          ]
        },
        {
          "output_type": "display_data",
          "data": {
            "text/plain": [
              "<Figure size 800x500 with 1 Axes>"
            ],
            "image/png": "[encoded data removed]"
          },
          "metadata": {}
        }
      ]
    }
  ],
  "metadata": {
    "colab": {
      "provenance": [],
      "gpuType": "T4"
    },
    "accelerator": "GPU",
    "language_info": {
      "name": "python"
    },
    "kernelspec": {
      "name": "python3",
      "display_name": "Python 3"
    }
  },
  "nbformat": 4,
  "nbformat_minor": 5
}